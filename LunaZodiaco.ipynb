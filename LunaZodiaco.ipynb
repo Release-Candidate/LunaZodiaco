{
 "cells": [
  {
   "cell_type": "markdown",
   "id": "smooth-cliff",
   "metadata": {
    "dotnet_interactive": {
     "language": "fsharp"
    }
   },
   "source": [
    "# LunaZodiaco\n",
    "\n",
    "LunaZodiaco is a F# NuGet package to calculate the moon phase and the moon's zodiac (ecliptic longitude) at a given day.\n",
    "It uses [Conway's method](http://www.faqs.org/faqs/astronomy/faq/part3/section-15.html) to calculate the moon age, which works in the 20th and 21th century and has an accuracy of about 1 day. The zodiac / ecliptic longitude ist calculated using an algorithm of [Paul Schlyter](http://stjarnhimlen.se/comp/tutorial.html#7) - *Computing planetary positions - a tutorial with worked examples*.\n",
    "\n",
    "So both values aren't accurate enough for use in a serious astronomy program, but suitable for a calender like application - the position changes during one day anyway.\n",
    "\n",
    "## Installation of the NuGet Package\n",
    "\n",
    "Download an install the LunaZodiaco Nuget package using your IDE (Visual Studio or JetBrains Rider) or one of the command-line possibilities: [LunaZodiaco Package at NuGet](https://www.nuget.org/packages/LunaZodiaco/)\n",
    "\n",
    "In an interactive F# FSI session, you can use the command #r \"nuget: LunaZodiaco\" to download and use the NuGet package LunaZodiaco."
   ]
  },
  {
   "cell_type": "code",
   "execution_count": 1,
   "id": "popular-emission",
   "metadata": {
    "dotnet_interactive": {
     "language": "fsharp"
    }
   },
   "outputs": [
    {
     "data": {
      "text/html": [
       "\r\n",
       "<div>\r\n",
       "    <div id='dotnet-interactive-this-cell-10196.Microsoft.DotNet.Interactive.Http.HttpPort' style='display: none'>\r\n",
       "        The below script needs to be able to find the current output cell; this is an easy method to get it.\r\n",
       "    </div>\r\n",
       "    <script type='text/javascript'>\r\n",
       "async function probeAddresses(probingAddresses) {\r\n",
       "    function timeout(ms, promise) {\r\n",
       "        return new Promise(function (resolve, reject) {\r\n",
       "            setTimeout(function () {\r\n",
       "                reject(new Error('timeout'))\r\n",
       "            }, ms)\r\n",
       "            promise.then(resolve, reject)\r\n",
       "        })\r\n",
       "    }\r\n",
       "\r\n",
       "    if (Array.isArray(probingAddresses)) {\r\n",
       "        for (let i = 0; i < probingAddresses.length; i++) {\r\n",
       "\r\n",
       "            let rootUrl = probingAddresses[i];\r\n",
       "\r\n",
       "            if (!rootUrl.endsWith('/')) {\r\n",
       "                rootUrl = `${rootUrl}/`;\r\n",
       "            }\r\n",
       "\r\n",
       "            try {\r\n",
       "                let response = await timeout(1000, fetch(`${rootUrl}discovery`, {\r\n",
       "                    method: 'POST',\r\n",
       "                    cache: 'no-cache',\r\n",
       "                    mode: 'cors',\r\n",
       "                    timeout: 1000,\r\n",
       "                    headers: {\r\n",
       "                        'Content-Type': 'text/plain'\r\n",
       "                    },\r\n",
       "                    body: probingAddresses[i]\r\n",
       "                }));\r\n",
       "\r\n",
       "                if (response.status == 200) {\r\n",
       "                    return rootUrl;\r\n",
       "                }\r\n",
       "            }\r\n",
       "            catch (e) { }\r\n",
       "        }\r\n",
       "    }\r\n",
       "}\r\n",
       "\r\n",
       "function loadDotnetInteractiveApi() {\r\n",
       "    probeAddresses([\"http://192.168.56.1:1000/\", \"http://192.168.0.100:1000/\", \"http://127.0.0.1:1000/\"])\r\n",
       "        .then((root) => {\r\n",
       "        // use probing to find host url and api resources\r\n",
       "        // load interactive helpers and language services\r\n",
       "        let dotnetInteractiveRequire = require.config({\r\n",
       "        context: '10196.Microsoft.DotNet.Interactive.Http.HttpPort',\r\n",
       "                paths:\r\n",
       "            {\r\n",
       "                'dotnet-interactive': `${root}resources`\r\n",
       "                }\r\n",
       "        }) || require;\r\n",
       "\r\n",
       "            window.dotnetInteractiveRequire = dotnetInteractiveRequire;\r\n",
       "\r\n",
       "            window.configureRequireFromExtension = function(extensionName, extensionCacheBuster) {\r\n",
       "                let paths = {};\r\n",
       "                paths[extensionName] = `${root}extensions/${extensionName}/resources/`;\r\n",
       "                \r\n",
       "                let internalRequire = require.config({\r\n",
       "                    context: extensionCacheBuster,\r\n",
       "                    paths: paths,\r\n",
       "                    urlArgs: `cacheBuster=${extensionCacheBuster}`\r\n",
       "                    }) || require;\r\n",
       "\r\n",
       "                return internalRequire\r\n",
       "            };\r\n",
       "        \r\n",
       "            dotnetInteractiveRequire([\r\n",
       "                    'dotnet-interactive/dotnet-interactive'\r\n",
       "                ],\r\n",
       "                function (dotnet) {\r\n",
       "                    dotnet.init(window);\r\n",
       "                },\r\n",
       "                function (error) {\r\n",
       "                    console.log(error);\r\n",
       "                }\r\n",
       "            );\r\n",
       "        })\r\n",
       "        .catch(error => {console.log(error);});\r\n",
       "    }\r\n",
       "\r\n",
       "// ensure `require` is available globally\r\n",
       "if ((typeof(require) !==  typeof(Function)) || (typeof(require.config) !== typeof(Function))) {\r\n",
       "    let require_script = document.createElement('script');\r\n",
       "    require_script.setAttribute('src', 'https://cdnjs.cloudflare.com/ajax/libs/require.js/2.3.6/require.min.js');\r\n",
       "    require_script.setAttribute('type', 'text/javascript');\r\n",
       "    \r\n",
       "    \r\n",
       "    require_script.onload = function() {\r\n",
       "        loadDotnetInteractiveApi();\r\n",
       "    };\r\n",
       "\r\n",
       "    document.getElementsByTagName('head')[0].appendChild(require_script);\r\n",
       "}\r\n",
       "else {\r\n",
       "    loadDotnetInteractiveApi();\r\n",
       "}\r\n",
       "\r\n",
       "    </script>\r\n",
       "</div>"
      ]
     },
     "metadata": {},
     "output_type": "display_data"
    },
    {
     "data": {
      "text/plain": [
       "Installed package LunaZodiaco version 0.9.2"
      ]
     },
     "metadata": {},
     "output_type": "display_data"
    }
   ],
   "source": [
    "#r \"nuget: LunaZodiaco\""
   ]
  },
  {
   "cell_type": "markdown",
   "id": "substantial-output",
   "metadata": {
    "dotnet_interactive": {
     "language": "fsharp"
    }
   },
   "source": [
    "Everything is located in the namespace `RC.Moon`, so lets open that.\n",
    "\n",
    "To check if everything is working, we try to display the Unicode codepoint of a full moon:"
   ]
  },
  {
   "cell_type": "code",
   "execution_count": 2,
   "id": "caroline-quantum",
   "metadata": {
    "dotnet_interactive": {
     "language": "fsharp"
    }
   },
   "outputs": [
    {
     "data": {
      "text/plain": [
       "🌕️"
      ]
     },
     "execution_count": 2,
     "metadata": {},
     "output_type": "execute_result"
    }
   ],
   "source": [
    "open RC.Moon\n",
    "\n",
    "MoonPhase.FullMoon.ToUnicode ()"
   ]
  },
  {
   "cell_type": "markdown",
   "id": "instructional-syria",
   "metadata": {
    "dotnet_interactive": {
     "language": "fsharp"
    }
   },
   "source": [
    "## Module MoonPhase\n",
    "\n",
    "Types and functions regarding the lunar phase are located in the module `MoonPhase`.\n",
    "\n",
    "There is a discriminated union for all 8 lunar phases:"
   ]
  },
  {
   "cell_type": "code",
   "execution_count": 3,
   "id": "numerous-fantasy",
   "metadata": {
    "dotnet_interactive": {
     "language": "fsharp"
    }
   },
   "outputs": [
    {
     "data": {
      "text/html": [
       "<div class=\"dni-plaintext\">Luna nueva</div>"
      ]
     },
     "execution_count": 3,
     "metadata": {},
     "output_type": "execute_result"
    }
   ],
   "source": [
    "MoonPhase.NewMoon"
   ]
  },
  {
   "cell_type": "code",
   "execution_count": 4,
   "id": "signal-shark",
   "metadata": {
    "dotnet_interactive": {
     "language": "fsharp"
    }
   },
   "outputs": [
    {
     "data": {
      "text/html": [
       "<div class=\"dni-plaintext\">Luna creciente</div>"
      ]
     },
     "execution_count": 4,
     "metadata": {},
     "output_type": "execute_result"
    }
   ],
   "source": [
    "MoonPhase.WaxingCrescent"
   ]
  },
  {
   "cell_type": "code",
   "execution_count": 5,
   "id": "central-desktop",
   "metadata": {
    "dotnet_interactive": {
     "language": "fsharp"
    }
   },
   "outputs": [
    {
     "data": {
      "text/html": [
       "<div class=\"dni-plaintext\">Cuarto creciente</div>"
      ]
     },
     "execution_count": 5,
     "metadata": {},
     "output_type": "execute_result"
    }
   ],
   "source": [
    "MoonPhase.FirstQuarter"
   ]
  },
  {
   "cell_type": "code",
   "execution_count": 6,
   "id": "north-range",
   "metadata": {
    "dotnet_interactive": {
     "language": "fsharp"
    }
   },
   "outputs": [
    {
     "data": {
      "text/html": [
       "<div class=\"dni-plaintext\">Creciente gibosa</div>"
      ]
     },
     "execution_count": 6,
     "metadata": {},
     "output_type": "execute_result"
    }
   ],
   "source": [
    "MoonPhase.WaxingGibbous"
   ]
  },
  {
   "cell_type": "code",
   "execution_count": 7,
   "id": "automotive-gallery",
   "metadata": {
    "dotnet_interactive": {
     "language": "fsharp"
    }
   },
   "outputs": [
    {
     "data": {
      "text/html": [
       "<div class=\"dni-plaintext\">Luna Llena</div>"
      ]
     },
     "execution_count": 7,
     "metadata": {},
     "output_type": "execute_result"
    }
   ],
   "source": [
    "MoonPhase.FullMoon"
   ]
  },
  {
   "cell_type": "code",
   "execution_count": 8,
   "id": "million-string",
   "metadata": {
    "dotnet_interactive": {
     "language": "fsharp"
    }
   },
   "outputs": [
    {
     "data": {
      "text/html": [
       "<div class=\"dni-plaintext\">Menguante gibosa</div>"
      ]
     },
     "execution_count": 8,
     "metadata": {},
     "output_type": "execute_result"
    }
   ],
   "source": [
    "MoonPhase.WaningGibbous"
   ]
  },
  {
   "cell_type": "code",
   "execution_count": 9,
   "id": "signal-lover",
   "metadata": {
    "dotnet_interactive": {
     "language": "fsharp"
    }
   },
   "outputs": [
    {
     "data": {
      "text/html": [
       "<div class=\"dni-plaintext\">Cuarto menguante</div>"
      ]
     },
     "execution_count": 9,
     "metadata": {},
     "output_type": "execute_result"
    }
   ],
   "source": [
    "MoonPhase.LastQuarter"
   ]
  },
  {
   "cell_type": "code",
   "execution_count": 10,
   "id": "acquired-multimedia",
   "metadata": {
    "dotnet_interactive": {
     "language": "fsharp"
    }
   },
   "outputs": [
    {
     "data": {
      "text/html": [
       "<div class=\"dni-plaintext\">Luna menguante</div>"
      ]
     },
     "execution_count": 10,
     "metadata": {},
     "output_type": "execute_result"
    }
   ],
   "source": [
    "MoonPhase.WaningCrescent"
   ]
  },
  {
   "cell_type": "markdown",
   "id": "distinct-render",
   "metadata": {
    "dotnet_interactive": {
     "language": "fsharp"
    }
   },
   "source": [
    "The member `ToString` and the function `MoonPhase.toString` both return the Spanish name of the lunar phase."
   ]
  },
  {
   "cell_type": "code",
   "execution_count": 11,
   "id": "brutal-youth",
   "metadata": {
    "dotnet_interactive": {
     "language": "fsharp"
    }
   },
   "outputs": [
    {
     "data": {
      "text/plain": [
       "Luna nueva"
      ]
     },
     "execution_count": 11,
     "metadata": {},
     "output_type": "execute_result"
    }
   ],
   "source": [
    "MoonPhase.NewMoon.ToString ()"
   ]
  },
  {
   "cell_type": "code",
   "execution_count": 12,
   "id": "intelligent-active",
   "metadata": {
    "dotnet_interactive": {
     "language": "fsharp"
    }
   },
   "outputs": [
    {
     "data": {
      "text/plain": [
       "Luna nueva"
      ]
     },
     "execution_count": 12,
     "metadata": {},
     "output_type": "execute_result"
    }
   ],
   "source": [
    "MoonPhase.toString MoonPhase.NewMoon"
   ]
  },
  {
   "cell_type": "markdown",
   "id": "acting-agenda",
   "metadata": {
    "dotnet_interactive": {
     "language": "fsharp"
    }
   },
   "source": [
    "The member `ToUnicode` returns the Unicode codepoint of the lunar phase, a symbol. Same as the function `MoonPhase.toUnicode`."
   ]
  },
  {
   "cell_type": "code",
   "execution_count": 13,
   "id": "passive-thanksgiving",
   "metadata": {
    "dotnet_interactive": {
     "language": "fsharp"
    }
   },
   "outputs": [
    {
     "data": {
      "text/plain": [
       "🌓️"
      ]
     },
     "execution_count": 13,
     "metadata": {},
     "output_type": "execute_result"
    }
   ],
   "source": [
    "MoonPhase.FirstQuarter.ToUnicode ()"
   ]
  },
  {
   "cell_type": "code",
   "execution_count": 14,
   "id": "first-zambia",
   "metadata": {
    "dotnet_interactive": {
     "language": "fsharp"
    }
   },
   "outputs": [
    {
     "data": {
      "text/plain": [
       "🌓️"
      ]
     },
     "execution_count": 14,
     "metadata": {},
     "output_type": "execute_result"
    }
   ],
   "source": [
    "MoonPhase.toUnicode MoonPhase.FirstQuarter"
   ]
  },
  {
   "cell_type": "markdown",
   "id": "understood-regard",
   "metadata": {
    "dotnet_interactive": {
     "language": "fsharp"
    }
   },
   "source": [
    "The member `ToInt` return an integer index of the lunar phase, where `0` is the new moon, `4` is the full moon and `7` waning crescent."
   ]
  },
  {
   "cell_type": "code",
   "execution_count": 15,
   "id": "aware-method",
   "metadata": {
    "dotnet_interactive": {
     "language": "fsharp"
    }
   },
   "outputs": [
    {
     "data": {
      "text/html": [
       "<div class=\"dni-plaintext\">3</div>"
      ]
     },
     "execution_count": 15,
     "metadata": {},
     "output_type": "execute_result"
    }
   ],
   "source": [
    "MoonPhase.WaxingGibbous.ToInt ()"
   ]
  },
  {
   "cell_type": "markdown",
   "id": "emotional-moldova",
   "metadata": {},
   "source": [
    "The member `FromInt` and function `MoonPhase.fromInt` convert an int to a moon phase option, it is the inverse of the function `ToInt` above."
   ]
  },
  {
   "cell_type": "code",
   "execution_count": 16,
   "id": "alert-campus",
   "metadata": {
    "dotnet_interactive": {
     "language": "fsharp"
    }
   },
   "outputs": [
    {
     "data": {
      "text/html": [
       "<table><thead><tr><th>Value</th></tr></thead><tbody><tr><td><div class=\"dni-plaintext\">Creciente gibosa</div></td></tr></tbody></table>"
      ]
     },
     "execution_count": 16,
     "metadata": {},
     "output_type": "execute_result"
    }
   ],
   "source": [
    "MoonPhase.fromInt 3"
   ]
  },
  {
   "cell_type": "code",
   "execution_count": 17,
   "id": "electoral-carry",
   "metadata": {
    "dotnet_interactive": {
     "language": "fsharp"
    }
   },
   "outputs": [
    {
     "data": {
      "text/html": [
       "<table><thead><tr><th>Value</th></tr></thead><tbody><tr><td><div class=\"dni-plaintext\">Creciente gibosa</div></td></tr></tbody></table>"
      ]
     },
     "execution_count": 17,
     "metadata": {},
     "output_type": "execute_result"
    }
   ],
   "source": [
    "MoonPhase.T.FromInt 3"
   ]
  },
  {
   "cell_type": "markdown",
   "id": "patient-anniversary",
   "metadata": {},
   "source": [
    "Too big or small integers yield `None`."
   ]
  },
  {
   "cell_type": "code",
   "execution_count": 18,
   "id": "jewish-syndrome",
   "metadata": {
    "dotnet_interactive": {
     "language": "fsharp"
    }
   },
   "outputs": [
    {
     "data": {},
     "execution_count": 18,
     "metadata": {},
     "output_type": "execute_result"
    }
   ],
   "source": [
    "MoonPhase.fromInt -6"
   ]
  },
  {
   "cell_type": "markdown",
   "id": "statewide-kitchen",
   "metadata": {
    "dotnet_interactive": {
     "language": "fsharp"
    }
   },
   "source": [
    "The function `MoonPhase.getInterval` and member `Interval` return the elongation interval of the phase.\n",
    "\n",
    "The last quarter occures between an elongation angle (between the moon and the sun) of 270 degrees up to, but not including, 315 degrees."
   ]
  },
  {
   "cell_type": "code",
   "execution_count": 19,
   "id": "purple-relay",
   "metadata": {
    "dotnet_interactive": {
     "language": "fsharp"
    }
   },
   "outputs": [
    {
     "data": {
      "text/html": [
       "<table><thead><tr><th>Item1</th><th>Item2</th></tr></thead><tbody><tr><td><div class=\"dni-plaintext\">270</div></td><td><div class=\"dni-plaintext\">315</div></td></tr></tbody></table>"
      ]
     },
     "execution_count": 19,
     "metadata": {},
     "output_type": "execute_result"
    }
   ],
   "source": [
    "MoonPhase.LastQuarter.Interval ()"
   ]
  },
  {
   "cell_type": "code",
   "execution_count": 20,
   "id": "lonely-track",
   "metadata": {
    "dotnet_interactive": {
     "language": "fsharp"
    }
   },
   "outputs": [
    {
     "data": {
      "text/html": [
       "<table><thead><tr><th>Item1</th><th>Item2</th></tr></thead><tbody><tr><td><div class=\"dni-plaintext\">270</div></td><td><div class=\"dni-plaintext\">315</div></td></tr></tbody></table>"
      ]
     },
     "execution_count": 20,
     "metadata": {},
     "output_type": "execute_result"
    }
   ],
   "source": [
    "MoonPhase.getInterval MoonPhase.LastQuarter"
   ]
  },
  {
   "cell_type": "markdown",
   "id": "speaking-given",
   "metadata": {
    "dotnet_interactive": {
     "language": "fsharp"
    }
   },
   "source": [
    "The inverse function of `getInterval` is `fromAngle`, the member function is named `FromAngle`. This returns the lunar phase to a given elongation angle. Angles in degrees need the measurement `<deg>`."
   ]
  },
  {
   "cell_type": "code",
   "execution_count": 21,
   "id": "proper-blink",
   "metadata": {
    "dotnet_interactive": {
     "language": "fsharp"
    }
   },
   "outputs": [
    {
     "data": {
      "text/html": [
       "<table><thead><tr><th>Value</th></tr></thead><tbody><tr><td><div class=\"dni-plaintext\">Luna menguante</div></td></tr></tbody></table>"
      ]
     },
     "execution_count": 21,
     "metadata": {},
     "output_type": "execute_result"
    }
   ],
   "source": [
    "MoonPhase.fromAngle 346.<deg>"
   ]
  },
  {
   "cell_type": "code",
   "execution_count": 22,
   "id": "engaged-celebration",
   "metadata": {
    "dotnet_interactive": {
     "language": "fsharp"
    }
   },
   "outputs": [
    {
     "data": {
      "text/html": [
       "<table><thead><tr><th>Value</th></tr></thead><tbody><tr><td><div class=\"dni-plaintext\">Luna menguante</div></td></tr></tbody></table>"
      ]
     },
     "execution_count": 22,
     "metadata": {},
     "output_type": "execute_result"
    }
   ],
   "source": [
    "MoonPhase.T.FromAngle 346.<deg>"
   ]
  },
  {
   "cell_type": "markdown",
   "id": "interesting-chemical",
   "metadata": {
    "dotnet_interactive": {
     "language": "fsharp"
    }
   },
   "source": [
    "## Module Zodiac\n",
    "\n",
    "All zodiac related functions the the zodiac type are contained in the module `Zodiac`.\n",
    "\n",
    "There is a discriminated union for all 12 zodiacs:"
   ]
  },
  {
   "cell_type": "code",
   "execution_count": 23,
   "id": "seeing-omaha",
   "metadata": {
    "dotnet_interactive": {
     "language": "fsharp"
    }
   },
   "outputs": [
    {
     "data": {
      "text/html": [
       "<div class=\"dni-plaintext\">Aries</div>"
      ]
     },
     "execution_count": 23,
     "metadata": {},
     "output_type": "execute_result"
    }
   ],
   "source": [
    "Zodiac.Aries"
   ]
  },
  {
   "cell_type": "code",
   "execution_count": 24,
   "id": "christian-speaker",
   "metadata": {
    "dotnet_interactive": {
     "language": "fsharp"
    }
   },
   "outputs": [
    {
     "data": {
      "text/html": [
       "<div class=\"dni-plaintext\">Tauro</div>"
      ]
     },
     "execution_count": 24,
     "metadata": {},
     "output_type": "execute_result"
    }
   ],
   "source": [
    "Zodiac.Taurus"
   ]
  },
  {
   "cell_type": "code",
   "execution_count": 25,
   "id": "infrared-aquatic",
   "metadata": {
    "dotnet_interactive": {
     "language": "fsharp"
    }
   },
   "outputs": [
    {
     "data": {
      "text/html": [
       "<div class=\"dni-plaintext\">G&#233;minis</div>"
      ]
     },
     "execution_count": 25,
     "metadata": {},
     "output_type": "execute_result"
    }
   ],
   "source": [
    "Zodiac.Gemini"
   ]
  },
  {
   "cell_type": "markdown",
   "id": "stopped-handle",
   "metadata": {
    "dotnet_interactive": {
     "language": "markdown"
    }
   },
   "source": [
    "And so on, until"
   ]
  },
  {
   "cell_type": "code",
   "execution_count": 26,
   "id": "peripheral-opera",
   "metadata": {
    "dotnet_interactive": {
     "language": "fsharp"
    }
   },
   "outputs": [
    {
     "data": {
      "text/html": [
       "<div class=\"dni-plaintext\">Acuario</div>"
      ]
     },
     "execution_count": 26,
     "metadata": {},
     "output_type": "execute_result"
    }
   ],
   "source": [
    "Zodiac.Aquarius"
   ]
  },
  {
   "cell_type": "code",
   "execution_count": 27,
   "id": "joint-twins",
   "metadata": {
    "dotnet_interactive": {
     "language": "fsharp"
    }
   },
   "outputs": [
    {
     "data": {
      "text/html": [
       "<div class=\"dni-plaintext\">Piscis</div>"
      ]
     },
     "execution_count": 27,
     "metadata": {},
     "output_type": "execute_result"
    }
   ],
   "source": [
    "Zodiac.Pisces"
   ]
  },
  {
   "cell_type": "markdown",
   "id": "strange-speaking",
   "metadata": {
    "dotnet_interactive": {
     "language": "fsharp"
    }
   },
   "source": [
    "The member `ToString` and the function `Zodiac.toString` both return the Spanish name of the lunar phase."
   ]
  },
  {
   "cell_type": "code",
   "execution_count": 28,
   "id": "acceptable-secretariat",
   "metadata": {
    "dotnet_interactive": {
     "language": "fsharp"
    }
   },
   "outputs": [
    {
     "data": {
      "text/plain": [
       "Aries"
      ]
     },
     "execution_count": 28,
     "metadata": {},
     "output_type": "execute_result"
    }
   ],
   "source": [
    "Zodiac.Aries.ToString ()"
   ]
  },
  {
   "cell_type": "code",
   "execution_count": 29,
   "id": "promising-romantic",
   "metadata": {
    "dotnet_interactive": {
     "language": "fsharp"
    }
   },
   "outputs": [
    {
     "data": {
      "text/plain": [
       "Aries"
      ]
     },
     "execution_count": 29,
     "metadata": {},
     "output_type": "execute_result"
    }
   ],
   "source": [
    "Zodiac.toString Zodiac.Aries"
   ]
  },
  {
   "cell_type": "markdown",
   "id": "atomic-pattern",
   "metadata": {
    "dotnet_interactive": {
     "language": "fsharp"
    }
   },
   "source": [
    "The member `ToUnicode` returns the Unicode codepoint of the zodiac, a symbol. Same as the function `Zodiac.toUnicode`."
   ]
  },
  {
   "cell_type": "code",
   "execution_count": 30,
   "id": "geological-aspect",
   "metadata": {
    "dotnet_interactive": {
     "language": "fsharp"
    }
   },
   "outputs": [
    {
     "data": {
      "text/plain": [
       "♊"
      ]
     },
     "execution_count": 30,
     "metadata": {},
     "output_type": "execute_result"
    }
   ],
   "source": [
    "Zodiac.Gemini.ToUnicode ()"
   ]
  },
  {
   "cell_type": "code",
   "execution_count": 31,
   "id": "serial-paper",
   "metadata": {
    "dotnet_interactive": {
     "language": "fsharp"
    }
   },
   "outputs": [
    {
     "data": {
      "text/plain": [
       "♊"
      ]
     },
     "execution_count": 31,
     "metadata": {},
     "output_type": "execute_result"
    }
   ],
   "source": [
    "Zodiac.toUnicode Zodiac.Gemini"
   ]
  },
  {
   "cell_type": "markdown",
   "id": "relative-office",
   "metadata": {
    "dotnet_interactive": {
     "language": "fsharp"
    }
   },
   "source": [
    "The member `ToInt` return an integer index of the zodiac, where `0` is the Aries, ... and `11` Pisces."
   ]
  },
  {
   "cell_type": "code",
   "execution_count": 32,
   "id": "prepared-enterprise",
   "metadata": {
    "dotnet_interactive": {
     "language": "fsharp"
    }
   },
   "outputs": [
    {
     "data": {
      "text/html": [
       "<div class=\"dni-plaintext\">9</div>"
      ]
     },
     "execution_count": 32,
     "metadata": {},
     "output_type": "execute_result"
    }
   ],
   "source": [
    "Zodiac.Capricorn.ToInt ()"
   ]
  },
  {
   "cell_type": "markdown",
   "id": "protective-operation",
   "metadata": {},
   "source": [
    "The member `FromInt` and function `Zodiac.fromInt` convert an int to a moon phase option, it is the inverse of the function `ToInt` above."
   ]
  },
  {
   "cell_type": "code",
   "execution_count": 33,
   "id": "minus-network",
   "metadata": {
    "dotnet_interactive": {
     "language": "fsharp"
    }
   },
   "outputs": [
    {
     "data": {
      "text/html": [
       "<table><thead><tr><th>Value</th></tr></thead><tbody><tr><td><div class=\"dni-plaintext\">Virgo</div></td></tr></tbody></table>"
      ]
     },
     "execution_count": 33,
     "metadata": {},
     "output_type": "execute_result"
    }
   ],
   "source": [
    "Zodiac.fromInt 5"
   ]
  },
  {
   "cell_type": "code",
   "execution_count": 34,
   "id": "convenient-means",
   "metadata": {
    "dotnet_interactive": {
     "language": "fsharp"
    }
   },
   "outputs": [
    {
     "data": {
      "text/html": [
       "<table><thead><tr><th>Value</th></tr></thead><tbody><tr><td><div class=\"dni-plaintext\">Virgo</div></td></tr></tbody></table>"
      ]
     },
     "execution_count": 34,
     "metadata": {},
     "output_type": "execute_result"
    }
   ],
   "source": [
    "Zodiac.T.FromInt 5"
   ]
  },
  {
   "cell_type": "markdown",
   "id": "other-insertion",
   "metadata": {},
   "source": [
    "Too big or small integers yield `None`."
   ]
  },
  {
   "cell_type": "code",
   "execution_count": 35,
   "id": "honest-borough",
   "metadata": {
    "dotnet_interactive": {
     "language": "fsharp"
    }
   },
   "outputs": [
    {
     "data": {},
     "execution_count": 35,
     "metadata": {},
     "output_type": "execute_result"
    }
   ],
   "source": [
    "Zodiac.fromInt -6"
   ]
  },
  {
   "cell_type": "markdown",
   "id": "noticed-upper",
   "metadata": {
    "dotnet_interactive": {
     "language": "fsharp"
    }
   },
   "source": [
    "The function `Zodiac.getInterval` and member `Interval` return the ecliptic longitude interval of the phase.\n",
    "\n",
    "Libra occurs in the ecliptic longitude angle of 180 to 210 degrees, including 180 but excluding 210."
   ]
  },
  {
   "cell_type": "code",
   "execution_count": 36,
   "id": "unusual-greenhouse",
   "metadata": {
    "dotnet_interactive": {
     "language": "fsharp"
    }
   },
   "outputs": [
    {
     "data": {
      "text/html": [
       "<table><thead><tr><th>Item1</th><th>Item2</th></tr></thead><tbody><tr><td><div class=\"dni-plaintext\">180</div></td><td><div class=\"dni-plaintext\">210</div></td></tr></tbody></table>"
      ]
     },
     "execution_count": 36,
     "metadata": {},
     "output_type": "execute_result"
    }
   ],
   "source": [
    "Zodiac.Libra.Interval ()"
   ]
  },
  {
   "cell_type": "code",
   "execution_count": 37,
   "id": "following-denial",
   "metadata": {
    "dotnet_interactive": {
     "language": "fsharp"
    }
   },
   "outputs": [
    {
     "data": {
      "text/html": [
       "<table><thead><tr><th>Item1</th><th>Item2</th></tr></thead><tbody><tr><td><div class=\"dni-plaintext\">180</div></td><td><div class=\"dni-plaintext\">210</div></td></tr></tbody></table>"
      ]
     },
     "execution_count": 37,
     "metadata": {},
     "output_type": "execute_result"
    }
   ],
   "source": [
    "Zodiac.getInterval Zodiac.Libra"
   ]
  },
  {
   "cell_type": "markdown",
   "id": "continent-tissue",
   "metadata": {
    "dotnet_interactive": {
     "language": "fsharp"
    }
   },
   "source": [
    "The inverse function of `getInterval` is `fromAngle`, the member function is named `FromAngle`. This returns the zodiac to a given ecliptic longitude angle. Angles in degrees need the measurement `<deg>`."
   ]
  },
  {
   "cell_type": "code",
   "execution_count": 38,
   "id": "rolled-salon",
   "metadata": {
    "dotnet_interactive": {
     "language": "fsharp"
    }
   },
   "outputs": [
    {
     "data": {
      "text/html": [
       "<table><thead><tr><th>Value</th></tr></thead><tbody><tr><td><div class=\"dni-plaintext\">Piscis</div></td></tr></tbody></table>"
      ]
     },
     "execution_count": 38,
     "metadata": {},
     "output_type": "execute_result"
    }
   ],
   "source": [
    "Zodiac.fromAngle 346.<deg>"
   ]
  },
  {
   "cell_type": "code",
   "execution_count": 39,
   "id": "mounted-lecture",
   "metadata": {
    "dotnet_interactive": {
     "language": "fsharp"
    }
   },
   "outputs": [
    {
     "data": {
      "text/html": [
       "<table><thead><tr><th>Value</th></tr></thead><tbody><tr><td><div class=\"dni-plaintext\">Piscis</div></td></tr></tbody></table>"
      ]
     },
     "execution_count": 39,
     "metadata": {},
     "output_type": "execute_result"
    }
   ],
   "source": [
    "Zodiac.T.FromAngle 346.<deg>"
   ]
  },
  {
   "cell_type": "markdown",
   "id": "bibliographic-mambo",
   "metadata": {},
   "source": [
    "## Module LunaZodiaco\n",
    "\n",
    "This module contains the moon phase and zodiac calculations and the type `MoonDay`, that holds the zodiac and lunar phase for a given date."
   ]
  },
  {
   "cell_type": "code",
   "execution_count": 40,
   "id": "signal-suffering",
   "metadata": {
    "dotnet_interactive": {
     "language": "fsharp"
    }
   },
   "outputs": [
    {
     "data": {
      "text/html": [
       "<table><thead><tr><th>Phase</th><th>Zodiac</th></tr></thead><tbody><tr><td><div class=\"dni-plaintext\">Menguante gibosa</div></td><td><div class=\"dni-plaintext\">Capricornio</div></td></tr></tbody></table>"
      ]
     },
     "execution_count": 40,
     "metadata": {},
     "output_type": "execute_result"
    }
   ],
   "source": [
    "let moonDay = { LunaZodiaco.MoonDay.Phase = MoonPhase.WaningGibbous; LunaZodiaco.Zodiac = Zodiac.Capricorn }\n",
    "moonDay"
   ]
  },
  {
   "cell_type": "markdown",
   "id": "indonesian-brooks",
   "metadata": {
    "dotnet_interactive": {
     "language": "fsharp"
    }
   },
   "source": [
    "`MoonDay` does have the member `ToStrings` and function `LunaZodiaco.toStrings`, that return a tuple of strings"
   ]
  },
  {
   "cell_type": "code",
   "execution_count": 41,
   "id": "ahead-lindsay",
   "metadata": {
    "dotnet_interactive": {
     "language": "fsharp"
    }
   },
   "outputs": [
    {
     "data": {
      "text/html": [
       "<table><thead><tr><th>Item1</th><th>Item2</th></tr></thead><tbody><tr><td><div class=\"dni-plaintext\">Menguante gibosa</div></td><td><div class=\"dni-plaintext\">Capricornio</div></td></tr></tbody></table>"
      ]
     },
     "execution_count": 41,
     "metadata": {},
     "output_type": "execute_result"
    }
   ],
   "source": [
    "LunaZodiaco.toStrings moonDay"
   ]
  },
  {
   "cell_type": "code",
   "execution_count": 42,
   "id": "postal-geometry",
   "metadata": {
    "dotnet_interactive": {
     "language": "fsharp"
    }
   },
   "outputs": [
    {
     "data": {
      "text/html": [
       "<table><thead><tr><th>Item1</th><th>Item2</th></tr></thead><tbody><tr><td><div class=\"dni-plaintext\">Menguante gibosa</div></td><td><div class=\"dni-plaintext\">Capricornio</div></td></tr></tbody></table>"
      ]
     },
     "execution_count": 42,
     "metadata": {},
     "output_type": "execute_result"
    }
   ],
   "source": [
    "moonDay.ToStrings ()"
   ]
  },
  {
   "cell_type": "markdown",
   "id": "surgical-finland",
   "metadata": {},
   "source": [
    "And the member `ToString`, that returns a single string."
   ]
  },
  {
   "cell_type": "code",
   "execution_count": 43,
   "id": "pretty-parker",
   "metadata": {
    "dotnet_interactive": {
     "language": "fsharp"
    }
   },
   "outputs": [
    {
     "data": {
      "text/plain": [
       "{ Phase = WaningGibbous\n",
       "  Zodiac = Capricorn }"
      ]
     },
     "execution_count": 43,
     "metadata": {},
     "output_type": "execute_result"
    }
   ],
   "source": [
    "moonDay.ToString ()"
   ]
  },
  {
   "cell_type": "markdown",
   "id": "killing-drinking",
   "metadata": {},
   "source": [
    "The function `LunaZodiaco.toUnicode` returns the moon phase and zodiac as a tuple of Unicode code points / symbols:"
   ]
  },
  {
   "cell_type": "code",
   "execution_count": 44,
   "id": "stretch-extension",
   "metadata": {
    "dotnet_interactive": {
     "language": "fsharp"
    }
   },
   "outputs": [
    {
     "data": {
      "text/html": [
       "<table><thead><tr><th>Item1</th><th>Item2</th></tr></thead><tbody><tr><td><div class=\"dni-plaintext\">&#127766;️</div></td><td><div class=\"dni-plaintext\">♑</div></td></tr></tbody></table>"
      ]
     },
     "execution_count": 44,
     "metadata": {},
     "output_type": "execute_result"
    }
   ],
   "source": [
    "LunaZodiaco.toUnicode moonDay"
   ]
  },
  {
   "cell_type": "code",
   "execution_count": 45,
   "id": "military-supervision",
   "metadata": {
    "dotnet_interactive": {
     "language": "fsharp"
    }
   },
   "outputs": [
    {
     "data": {
      "text/html": [
       "<table><thead><tr><th>Item1</th><th>Item2</th></tr></thead><tbody><tr><td><div class=\"dni-plaintext\">&#127766;️</div></td><td><div class=\"dni-plaintext\">♑</div></td></tr></tbody></table>"
      ]
     },
     "execution_count": 45,
     "metadata": {},
     "output_type": "execute_result"
    }
   ],
   "source": [
    "moonDay.ToUnicode ()"
   ]
  },
  {
   "cell_type": "markdown",
   "id": "touched-aerospace",
   "metadata": {},
   "source": [
    "The member `ToIntervals` and the function `LunaZodiaco.toIntervals` return the elongation angle and the ecliptic longitude angle interval of the moon phase and zodiac as a tuple."
   ]
  },
  {
   "cell_type": "code",
   "execution_count": 46,
   "id": "incorrect-problem",
   "metadata": {
    "dotnet_interactive": {
     "language": "fsharp"
    }
   },
   "outputs": [
    {
     "data": {
      "text/html": [
       "<table><thead><tr><th>Item1</th><th>Item2</th></tr></thead><tbody><tr><td><div class=\"dni-plaintext\">( 225, 270 )</div></td><td><div class=\"dni-plaintext\">( 270, 300 )</div></td></tr></tbody></table>"
      ]
     },
     "execution_count": 46,
     "metadata": {},
     "output_type": "execute_result"
    }
   ],
   "source": [
    "LunaZodiaco.toIntervals moonDay"
   ]
  },
  {
   "cell_type": "code",
   "execution_count": 47,
   "id": "growing-worry",
   "metadata": {
    "dotnet_interactive": {
     "language": "fsharp"
    }
   },
   "outputs": [
    {
     "data": {
      "text/html": [
       "<table><thead><tr><th>Item1</th><th>Item2</th></tr></thead><tbody><tr><td><div class=\"dni-plaintext\">( 225, 270 )</div></td><td><div class=\"dni-plaintext\">( 270, 300 )</div></td></tr></tbody></table>"
      ]
     },
     "execution_count": 47,
     "metadata": {},
     "output_type": "execute_result"
    }
   ],
   "source": [
    "moonDay.ToIntervals ()"
   ]
  },
  {
   "cell_type": "markdown",
   "id": "turned-forge",
   "metadata": {
    "dotnet_interactive": {
     "language": "fsharp"
    }
   },
   "source": [
    "## Calculation of Moon Age and Ecliptic Longitude\n",
    "\n",
    "The function `LunaZodiaco.computeMoonPhase` returns the moon phase interval of the moon at a given date, with an accuracy of +/- one day. Attention: it only works in the 20th and 21st century, as it uses Conways algorithm to calculate the moon age (the day of the moon in one lunar cycle of 29 days)."
   ]
  },
  {
   "cell_type": "code",
   "execution_count": 48,
   "id": "welcome-tribute",
   "metadata": {
    "dotnet_interactive": {
     "language": "fsharp"
    }
   },
   "outputs": [
    {
     "data": {
      "text/html": [
       "<table><thead><tr><th>Item1</th><th>Item2</th></tr></thead><tbody><tr><td><div class=\"dni-plaintext\">315</div></td><td><div class=\"dni-plaintext\">360</div></td></tr></tbody></table>"
      ]
     },
     "execution_count": 48,
     "metadata": {},
     "output_type": "execute_result"
    }
   ],
   "source": [
    "open System\n",
    "LunaZodiaco.computeMoonPhase (DateTime (2021, 05, 06))"
   ]
  },
  {
   "cell_type": "markdown",
   "id": "enormous-lemon",
   "metadata": {},
   "source": [
    "THe function `LunaZodiaco.computeLongitude` calculates the ecliptic longitude of the moon at the given day (well, an angle that it has during the day)."
   ]
  },
  {
   "cell_type": "code",
   "execution_count": 49,
   "id": "naval-disabled",
   "metadata": {
    "dotnet_interactive": {
     "language": "fsharp"
    }
   },
   "outputs": [
    {
     "data": {
      "text/html": [
       "<div class=\"dni-plaintext\">340.9314455776453</div>"
      ]
     },
     "execution_count": 49,
     "metadata": {},
     "output_type": "execute_result"
    }
   ],
   "source": [
    "LunaZodiaco.computeLongitude (DateTime (2021, 05, 06))"
   ]
  },
  {
   "cell_type": "markdown",
   "id": "agreed-counter",
   "metadata": {},
   "source": [
    "To get the moon phase and moon zodiac of a day, use the function `LunaZodiaco.getMoonDay`, that returns the moon phase and the zodiac as a `MoonDay` record."
   ]
  },
  {
   "cell_type": "code",
   "execution_count": 50,
   "id": "listed-front",
   "metadata": {
    "dotnet_interactive": {
     "language": "fsharp"
    }
   },
   "outputs": [
    {
     "data": {
      "text/html": [
       "<table><thead><tr><th>Phase</th><th>Zodiac</th></tr></thead><tbody><tr><td><div class=\"dni-plaintext\">Luna menguante</div></td><td><div class=\"dni-plaintext\">Piscis</div></td></tr></tbody></table>"
      ]
     },
     "execution_count": 50,
     "metadata": {},
     "output_type": "execute_result"
    }
   ],
   "source": [
    "LunaZodiaco.getMoonDay (DateTime (2021, 05, 06))"
   ]
  },
  {
   "cell_type": "markdown",
   "id": "assured-durham",
   "metadata": {
    "dotnet_interactive": {
     "language": "fsharp"
    }
   },
   "source": [
    "&copy; 2021 Roland Csaszar, licensed under the MIT license."
   ]
  }
 ],
 "metadata": {
  "kernelspec": {
   "display_name": ".NET (F#)",
   "language": "F#",
   "name": ".net-fsharp"
  },
  "language_info": {
   "file_extension": ".fs",
   "mimetype": "text/x-fsharp",
   "name": "F#",
   "pygments_lexer": "fsharp",
   "version": "5.0"
  }
 },
 "nbformat": 4,
 "nbformat_minor": 5
}
