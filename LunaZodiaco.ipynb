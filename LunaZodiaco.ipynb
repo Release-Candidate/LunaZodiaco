{
 "cells": [
  {
   "cell_type": "code",
   "execution_count": 12,
   "id": "confidential-pipeline",
   "metadata": {},
   "outputs": [
    {
     "name": "stdout",
     "output_type": "stream",
     "text": [
      "262.973461 262.968870\n",
      "262.973461 262.973461\n"
     ]
    },
    {
     "data": {
      "text/html": [
       "<div class=\"dni-plaintext\">262.97346092942985</div>"
      ]
     },
     "execution_count": 12,
     "metadata": {},
     "output_type": "execute_result"
    }
   ],
   "source": [
    "[<Measure>]\n",
    "type deg\n",
    "\n",
    "let inline internal toSpecialJulianDayNumber (date: DateTime) =\n",
    "    date.ToOADate() - 36525.\n",
    "\n",
    "/// Normalize angle to be between 0 and 360, including 0 but excluding 360.\n",
    "let inline internal normalize (angle: float<deg>) =\n",
    "     angle - floor ((float angle) / 360.) * 360.<deg>\n",
    "\n",
    "let inline internal sinDeg (angle: float<deg>) =\n",
    "    sin (angle * Math.PI / 180.<deg>)\n",
    "\n",
    "let inline internal cosDeg (angle: float<deg>) =\n",
    "    cos (angle * Math.PI / 180.<deg>)\n",
    "/// Long ascending node.\n",
    "let N julian = 125.1228<deg> - 0.0529538083<deg> * julian |> normalize\n",
    "/// Arg. of perigee.\n",
    "let w julian = 318.0634<deg> + 0.1643573223<deg>  * julian |> normalize\n",
    "/// Mean anomaly.\n",
    "let M julian = 115.3654<deg> + 13.0649929509<deg> * julian |> normalize\n",
    "/// Inclination.\n",
    "let i = 5.1454<deg>\n",
    "/// Mean distance.\n",
    "let a =  60.2666\n",
    "/// Eccentricity.\n",
    "let e = 0.054900\n",
    "\n",
    "/// Iterative computation of eccentric anomaly.\n",
    "let E0 julian =\n",
    "    M julian +\n",
    "    (180.<deg> / Math.PI) * e * sinDeg (M julian) *\n",
    "    (1. + e * cosDeg (M julian)) |> normalize\n",
    "\n",
    "let rec ecc last julian =\n",
    "    let now = last -\n",
    "                (last - (180.<deg> / Math.PI) * e * sinDeg (last) - M julian) /\n",
    "                (1. - e * cosDeg (last) )  |> normalize\n",
    "    printf \"%f %f\\n\" now last\n",
    "    match abs (now - last) with\n",
    "    | diff when diff <  0.002<deg> -> now\n",
    "    | _ -> ecc now julian\n",
    "\n",
    "let E5 julian = ecc (E0 julian) julian\n",
    "\n",
    "/// X and Y coordinates\n",
    "let x julian = a * (cosDeg (E5 julian) - e)\n",
    "let y julian = a * sqrt (1. - e ** 2.) * sinDeg (E5 julian)\n",
    "\n",
    "/// Distance in earth radii.\n",
    "let r julian = sqrt( (x julian) ** 2. + (y julian) ** 2. )\n",
    "/// True anomaly\n",
    "let v julian = 180.<deg> / Math.PI * atan2 (y julian) (x julian) |> normalize\n",
    "\n",
    "/// Ecliptic coordinates.\n",
    "let xeclip julian = r julian * ( cosDeg (N julian) * cosDeg(v julian + w julian) - sinDeg(N julian) * sinDeg(v julian + w julian) * cosDeg i )\n",
    "let yeclip julian = r julian * ( sinDeg (N julian) * cosDeg(v julian + w julian) + cosDeg(N julian) * sinDeg(v julian + w julian) * cosDeg i )\n",
    "\n",
    "/// Ecliptic longitude.\n",
    "let computeLongitude julian = 180.<deg> / Math.PI * atan2 (yeclip julian) (xeclip julian) |> normalize\n",
    "\n",
    "let day = toSpecialJulianDayNumber (System.DateTime (1990, 4, 19))\n",
    "\n",
    "E5 day\n"
   ]
  },
  {
   "cell_type": "code",
   "execution_count": null,
   "id": "romantic-luxury",
   "metadata": {},
   "outputs": [],
   "source": []
  }
 ],
 "metadata": {
  "kernelspec": {
   "display_name": ".NET (F#)",
   "language": "F#",
   "name": ".net-fsharp"
  },
  "language_info": {
   "file_extension": ".fs",
   "mimetype": "text/x-fsharp",
   "name": "C#",
   "pygments_lexer": "fsharp",
   "version": "4.5"
  }
 },
 "nbformat": 4,
 "nbformat_minor": 5
}
